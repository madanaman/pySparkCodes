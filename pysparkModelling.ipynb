{
 "cells": [
  {
   "cell_type": "code",
   "execution_count": null,
   "metadata": {},
   "outputs": [],
   "source": [
    "#Modeling with pyspark"
   ]
  },
  {
   "cell_type": "code",
   "execution_count": null,
   "metadata": {},
   "outputs": [],
   "source": [
    "import pyspark\n",
    "from pyspark import SparkContext\n",
    "from datetime import datetime"
   ]
  },
  {
   "cell_type": "code",
   "execution_count": 9,
   "metadata": {},
   "outputs": [],
   "source": [
    "dirty_data = spark.createDataFrame([\n",
    "          (1,'Porsche','Boxster S','Turbo',2.5,4,22,None)\n",
    "        , (2,'Aston Martin','Vanquish','Aspirated',6.0,12,16,None)\n",
    "        , (3,'Porsche','911 Carrera 4S Cabriolet','Turbo',3.0,6,24,None)\n",
    "        , (3,'General Motors','SPARK ACTIV','Aspirated',1.4,None,32,None)\n",
    "        , (5,'BMW','COOPER S HARDTOP 2 DOOR','Turbo',2.0,4,26,None)\n",
    "        , (6,'BMW','330i','Turbo',2.0,None,27,None)\n",
    "        , (7,'BMW','440i Coupe','Turbo',3.0,6,23,None)\n",
    "        , (8,'BMW','440i Coupe','Turbo',3.0,6,23,None)\n",
    "        , (9,'Mercedes-Benz',None,None,None,None,27,None)\n",
    "        , (10,'Mercedes-Benz','CLS 550','Turbo',4.7,8,21,79231)\n",
    "        , (11,'Volkswagen','GTI','Turbo',2.0,4,None,None)\n",
    "        , (12,'Ford Motor Company','FUSION AWD','Turbo',2.7,6,20,None)\n",
    "        , (13,'Nissan','Q50 AWD RED SPORT','Turbo',3.0,6,22,None)\n",
    "        , (14,'Nissan','Q70 AWD','Aspirated',5.6,8,18,None)\n",
    "        , (15,'Kia','Stinger RWD','Turbo',2.0,4,25,None)\n",
    "        , (16,'Toyota','CAMRY HYBRID LE','Aspirated',2.5,4,46,None)\n",
    "        , (16,'Toyota','CAMRY HYBRID LE','Aspirated',2.5,4,46,None)\n",
    "        , (18,'FCA US LLC','300','Aspirated',3.6,6,23,None)\n",
    "        , (19,'Hyundai','G80 AWD','Turbo',3.3,6,20,None)\n",
    "        , (20,'Hyundai','G80 AWD','Turbo',3.3,6,20,None)\n",
    "        , (21,'BMW','X5 M','Turbo',4.4,8,18,121231)\n",
    "        , (22,'GE','K1500 SUBURBAN 4WD','Aspirated',5.3,8,18,None)\n",
    "    ], ['Id','Manufacturer','Model','EngineType','Displacement',\n",
    "        'Cylinders','FuelEconomy','MSRP'])"
   ]
  },
  {
   "cell_type": "code",
   "execution_count": 11,
   "metadata": {},
   "outputs": [
    {
     "name": "stdout",
     "output_type": "stream",
     "text": [
      "Total records: 22\n",
      "Complete duplicates 21\n",
      "duplicate records are \n",
      "+---+------------+---------------+----------+------------+---------+-----------+----+-----+\n",
      "| Id|Manufacturer|          Model|EngineType|Displacement|Cylinders|FuelEconomy|MSRP|count|\n",
      "+---+------------+---------------+----------+------------+---------+-----------+----+-----+\n",
      "| 16|      Toyota|CAMRY HYBRID LE| Aspirated|         2.5|        4|         46|null|    2|\n",
      "+---+------------+---------------+----------+------------+---------+-----------+----+-----+\n",
      "\n",
      "Updated count after removing duplicates 21\n"
     ]
    }
   ],
   "source": [
    "#Checking for duplicates\n",
    "print(\"Total records:\", dirty_data.count())\n",
    "print(\"Complete duplicates\", dirty_data.distinct().count())\n",
    "print(\"duplicate records are \") \n",
    "(dirty_data\n",
    " .groupBy(dirty_data.columns)\n",
    " .count()\n",
    " .filter('count>1')\n",
    " .show())\n",
    "full_removed = dirty_data.drop_duplicates()\n",
    "print(\"Updated count after removing duplicates\", full_removed.count())\n"
   ]
  },
  {
   "cell_type": "code",
   "execution_count": 15,
   "metadata": {},
   "outputs": [
    {
     "name": "stdout",
     "output_type": "stream",
     "text": [
      "+------------+----------+----------+------------+---------+-----------+----+-----+\n",
      "|Manufacturer|     Model|EngineType|Displacement|Cylinders|FuelEconomy|MSRP|count|\n",
      "+------------+----------+----------+------------+---------+-----------+----+-----+\n",
      "|         BMW|440i Coupe|     Turbo|         3.0|        6|         23|null|    2|\n",
      "|     Hyundai|   G80 AWD|     Turbo|         3.3|        6|         20|null|    2|\n",
      "+------------+----------+----------+------------+---------+-----------+----+-----+\n",
      "\n",
      "After dropping duplicates w.r.t id feild, new count is 19\n"
     ]
    }
   ],
   "source": [
    "# Checking if there are duplicates where id's are different\n",
    "(full_removed\n",
    ".groupBy([col for col in full_removed.columns if col != \"Id\"])\n",
    ".count()\n",
    ".filter('count>1')\n",
    " .show()\n",
    ")\n",
    "\n",
    "no_ids = full_removed.select([col for col in full_removed.columns if col != \"Id\"])\n",
    "no_ids.count(), no_ids.distinct().count()\n",
    "id_removed = full_removed.drop_duplicates(\n",
    "    subset=[col for col in full_removed.columns if col != \"Id\"])\n",
    "print(\"After dropping duplicates w.r.t id feild, new count is\", id_removed.count())"
   ]
  },
  {
   "cell_type": "code",
   "execution_count": 17,
   "metadata": {},
   "outputs": [
    {
     "name": "stdout",
     "output_type": "stream",
     "text": [
      "+------------+---------------------+\n",
      "|Count of IDS|Count of Distinct IDs|\n",
      "+------------+---------------------+\n",
      "|          19|                   18|\n",
      "+------------+---------------------+\n",
      "\n"
     ]
    }
   ],
   "source": [
    "import pyspark.sql.functions as fn\n",
    "id_removed.agg(\n",
    "fn.count(\"Id\").alias(\"Count of IDS\"),\n",
    "fn.countDistinct(\"Id\").alias(\"Count of Distinct IDs\")).show()"
   ]
  },
  {
   "cell_type": "code",
   "execution_count": 18,
   "metadata": {},
   "outputs": [
    {
     "name": "stdout",
     "output_type": "stream",
     "text": [
      "+---+-----+\n",
      "| Id|count|\n",
      "+---+-----+\n",
      "|  3|    2|\n",
      "+---+-----+\n",
      "\n"
     ]
    }
   ],
   "source": [
    "#finding duplicate id\n",
    "(id_removed.groupBy(\"Id\").count().filter('count>1').show())"
   ]
  },
  {
   "cell_type": "code",
   "execution_count": 21,
   "metadata": {},
   "outputs": [
    {
     "name": "stdout",
     "output_type": "stream",
     "text": [
      "+---+--------------+--------------------+----------+------------+---------+-----------+----+\n",
      "| Id|  Manufacturer|               Model|EngineType|Displacement|Cylinders|FuelEconomy|MSRP|\n",
      "+---+--------------+--------------------+----------+------------+---------+-----------+----+\n",
      "|  3|General Motors|         SPARK ACTIV| Aspirated|         1.4|     null|         32|null|\n",
      "|  3|       Porsche|911 Carrera 4S Ca...|     Turbo|         3.0|        6|         24|null|\n",
      "+---+--------------+--------------------+----------+------------+---------+-----------+----+\n",
      "\n"
     ]
    }
   ],
   "source": [
    "id_removed.filter(id_removed.Id==3).show()"
   ]
  },
  {
   "cell_type": "code",
   "execution_count": 26,
   "metadata": {},
   "outputs": [
    {
     "name": "stdout",
     "output_type": "stream",
     "text": [
      "+-------------+------------------+--------------------+----------+------------+---------+-----------+------+\n",
      "|           Id|      Manufacturer|               Model|EngineType|Displacement|Cylinders|FuelEconomy|  MSRP|\n",
      "+-------------+------------------+--------------------+----------+------------+---------+-----------+------+\n",
      "|   8589934592|    General Motors|         SPARK ACTIV| Aspirated|         1.4|     null|         32|  null|\n",
      "| 188978561024|     Mercedes-Benz|             CLS 550|     Turbo|         4.7|        8|         21| 79231|\n",
      "| 197568495616|     Mercedes-Benz|                null|      null|        null|     null|         27|  null|\n",
      "| 206158430208|Ford Motor Company|          FUSION AWD|     Turbo|         2.7|        6|         20|  null|\n",
      "| 438086664192|               BMW|COOPER S HARDTOP ...|     Turbo|         2.0|        4|         26|  null|\n",
      "| 523986010112|      Aston Martin|            Vanquish| Aspirated|         6.0|       12|         16|  null|\n",
      "| 721554505728|        Volkswagen|                 GTI|     Turbo|         2.0|        4|       null|  null|\n",
      "| 764504178688|               Kia|         Stinger RWD|     Turbo|         2.0|        4|         25|  null|\n",
      "| 919123001344|               BMW|                330i|     Turbo|         2.0|     null|         27|  null|\n",
      "| 944892805120|           Porsche|           Boxster S|     Turbo|         2.5|        4|         22|  null|\n",
      "| 970662608896|        FCA US LLC|                 300| Aspirated|         3.6|        6|         23|  null|\n",
      "|1030792151040|           Hyundai|             G80 AWD|     Turbo|         3.3|        6|         20|  null|\n",
      "|1039382085632|               BMW|          440i Coupe|     Turbo|         3.0|        6|         23|  null|\n",
      "|1116691496960|            Nissan|   Q50 AWD RED SPORT|     Turbo|         3.0|        6|         22|  null|\n",
      "|1211180777472|               BMW|                X5 M|     Turbo|         4.4|        8|         18|121231|\n",
      "|1331439861760|            Nissan|             Q70 AWD| Aspirated|         5.6|        8|         18|  null|\n",
      "|1606317768704|           Porsche|911 Carrera 4S Ca...|     Turbo|         3.0|        6|         24|  null|\n",
      "|1614907703296|            Toyota|     CAMRY HYBRID LE| Aspirated|         2.5|        4|         46|  null|\n",
      "|1700807049216|                GE|  K1500 SUBURBAN 4WD| Aspirated|         5.3|        8|         18|  null|\n",
      "+-------------+------------------+--------------------+----------+------------+---------+-----------+------+\n",
      "\n"
     ]
    }
   ],
   "source": [
    "#creating new ids\n",
    "new_id = (\n",
    "    id_removed\n",
    "    .select(\n",
    "        [fn.monotonically_increasing_id().alias('Id')] + \n",
    "        [col for col in id_removed.columns if col != 'Id'])\n",
    ")\n",
    "new_id.show()"
   ]
  },
  {
   "cell_type": "code",
   "execution_count": 31,
   "metadata": {},
   "outputs": [
    {
     "name": "stdout",
     "output_type": "stream",
     "text": [
      "+------------+------------+\n",
      "|          Id|CountMissing|\n",
      "+------------+------------+\n",
      "|197568495616|           5|\n",
      "|  8589934592|           2|\n",
      "|721554505728|           2|\n",
      "|919123001344|           2|\n",
      "+------------+------------+\n",
      "\n",
      "MSRP_miss 0.8888888888888888\n",
      "Cylinders_miss 0.11111111111111116\n",
      "FuelEconomy_miss 0.05555555555555558\n",
      "Id_miss 0.0\n",
      "Manufacturer_miss 0.0\n",
      "Model_miss 0.0\n",
      "EngineType_miss 0.0\n",
      "Displacement_miss 0.0\n"
     ]
    }
   ],
   "source": [
    "# Finding missing observations\n",
    "(\n",
    "    spark.createDataFrame(\n",
    "        new_id\n",
    "        .rdd\n",
    "        .map(\n",
    "           lambda row: (\n",
    "                 row['Id']\n",
    "               , sum([c == None for c in row])\n",
    "           )\n",
    "        )\n",
    "        .filter(lambda el: el[1] > 1)\n",
    "        ,['Id', 'CountMissing']\n",
    "    )\n",
    "    .orderBy('CountMissing', ascending=False)\n",
    "    .show()\n",
    ")\n",
    "\n",
    "\n",
    "merc_out = new_id.dropna(thresh=4)\n",
    "for k, v in sorted(\n",
    "    merc_out\n",
    "        .agg(*[\n",
    "               (1 - (fn.count(c) / fn.count('*')))\n",
    "                    .alias(c + '_miss')\n",
    "               for c in merc_out.columns\n",
    "           ])\n",
    "        .collect()[0]\n",
    "        .asDict()\n",
    "        .items()\n",
    "    , key=lambda el: el[1]\n",
    "    , reverse=True\n",
    "):\n",
    "    print(k, v)"
   ]
  },
  {
   "cell_type": "code",
   "execution_count": 32,
   "metadata": {},
   "outputs": [
    {
     "name": "stdout",
     "output_type": "stream",
     "text": [
      "+-------------+------------------+--------------------+----------+------------+---------+-----------+\n",
      "|           Id|      Manufacturer|               Model|EngineType|Displacement|Cylinders|FuelEconomy|\n",
      "+-------------+------------------+--------------------+----------+------------+---------+-----------+\n",
      "|   8589934592|    General Motors|         SPARK ACTIV| Aspirated|         1.4|     null|         32|\n",
      "| 188978561024|     Mercedes-Benz|             CLS 550|     Turbo|         4.7|        8|         21|\n",
      "| 206158430208|Ford Motor Company|          FUSION AWD|     Turbo|         2.7|        6|         20|\n",
      "| 438086664192|               BMW|COOPER S HARDTOP ...|     Turbo|         2.0|        4|         26|\n",
      "| 523986010112|      Aston Martin|            Vanquish| Aspirated|         6.0|       12|         16|\n",
      "| 721554505728|        Volkswagen|                 GTI|     Turbo|         2.0|        4|       null|\n",
      "| 764504178688|               Kia|         Stinger RWD|     Turbo|         2.0|        4|         25|\n",
      "| 919123001344|               BMW|                330i|     Turbo|         2.0|     null|         27|\n",
      "| 944892805120|           Porsche|           Boxster S|     Turbo|         2.5|        4|         22|\n",
      "| 970662608896|        FCA US LLC|                 300| Aspirated|         3.6|        6|         23|\n",
      "|1030792151040|           Hyundai|             G80 AWD|     Turbo|         3.3|        6|         20|\n",
      "|1039382085632|               BMW|          440i Coupe|     Turbo|         3.0|        6|         23|\n",
      "|1116691496960|            Nissan|   Q50 AWD RED SPORT|     Turbo|         3.0|        6|         22|\n",
      "|1211180777472|               BMW|                X5 M|     Turbo|         4.4|        8|         18|\n",
      "|1331439861760|            Nissan|             Q70 AWD| Aspirated|         5.6|        8|         18|\n",
      "|1606317768704|           Porsche|911 Carrera 4S Ca...|     Turbo|         3.0|        6|         24|\n",
      "|1614907703296|            Toyota|     CAMRY HYBRID LE| Aspirated|         2.5|        4|         46|\n",
      "|1700807049216|                GE|  K1500 SUBURBAN 4WD| Aspirated|         5.3|        8|         18|\n",
      "+-------------+------------------+--------------------+----------+------------+---------+-----------+\n",
      "\n"
     ]
    }
   ],
   "source": [
    "# as column msrp is missing most of the values, we're removing it \n",
    "no_MSRP = merc_out.select([col for col in new_id.columns if col != 'MSRP'])\n",
    "no_MSRP.show()"
   ]
  },
  {
   "cell_type": "code",
   "execution_count": 33,
   "metadata": {},
   "outputs": [
    {
     "name": "stdout",
     "output_type": "stream",
     "text": [
      "+-------------+------------------+--------------------+----------+------------+---------+------------------+\n",
      "|           Id|      Manufacturer|               Model|EngineType|Displacement|Cylinders|       FuelEconomy|\n",
      "+-------------+------------------+--------------------+----------+------------+---------+------------------+\n",
      "|   8589934592|    General Motors|         SPARK ACTIV| Aspirated|         1.4|        2| 4.188095813540793|\n",
      "| 188978561024|     Mercedes-Benz|             CLS 550|     Turbo|         4.7|        8|              21.0|\n",
      "| 206158430208|Ford Motor Company|          FUSION AWD|     Turbo|         2.7|        5|16.666666666666668|\n",
      "| 438086664192|               BMW|COOPER S HARDTOP ...|     Turbo|         2.0|        4|              26.0|\n",
      "| 523986010112|      Aston Martin|            Vanquish| Aspirated|         6.0|       12|              16.0|\n",
      "| 721554505728|        Volkswagen|                 GTI|     Turbo|         2.0|        4|11.965988038687978|\n",
      "| 764504178688|               Kia|         Stinger RWD|     Turbo|         2.0|        4|              25.0|\n",
      "| 919123001344|               BMW|                330i|     Turbo|         2.0|        3| 8.974491029015983|\n",
      "| 944892805120|           Porsche|           Boxster S|     Turbo|         2.5|        4|              22.0|\n",
      "| 970662608896|        FCA US LLC|                 300| Aspirated|         3.6|        6|              23.0|\n",
      "|1030792151040|           Hyundai|             G80 AWD|     Turbo|         3.3|        6|              20.0|\n",
      "|1039382085632|               BMW|          440i Coupe|     Turbo|         3.0|        6|23.000000000000004|\n",
      "|1116691496960|            Nissan|   Q50 AWD RED SPORT|     Turbo|         3.0|        6|21.999999999999996|\n",
      "|1211180777472|               BMW|                X5 M|     Turbo|         4.4|        8|              18.0|\n",
      "|1331439861760|            Nissan|             Q70 AWD| Aspirated|         5.6|        8|              18.0|\n",
      "|1606317768704|           Porsche|911 Carrera 4S Ca...|     Turbo|         3.0|        6|              24.0|\n",
      "|1614907703296|            Toyota|     CAMRY HYBRID LE| Aspirated|         2.5|        4|              46.0|\n",
      "|1700807049216|                GE|  K1500 SUBURBAN 4WD| Aspirated|         5.3|        8|              18.0|\n",
      "+-------------+------------------+--------------------+----------+------------+---------+------------------+\n",
      "\n"
     ]
    }
   ],
   "source": [
    "multipliers = (\n",
    "    no_MSRP\n",
    "    .agg(\n",
    "          fn.mean(\n",
    "              fn.col('FuelEconomy') / \n",
    "              (\n",
    "                  fn.col('Displacement') * fn.col('Cylinders')\n",
    "              )\n",
    "          ).alias('FuelEconomy')\n",
    "        , fn.mean(\n",
    "            fn.col('Cylinders') / \n",
    "            fn.col('Displacement')\n",
    "        ).alias('Cylinders')\n",
    "    )\n",
    ").toPandas().to_dict('records')[0]\n",
    "\n",
    "\n",
    "imputed = (\n",
    "    no_MSRP\n",
    "    .withColumn('FuelEconomy', fn.col('FuelEconomy') / fn.col('Displacement') / fn.col('Cylinders'))\n",
    "    .withColumn('Cylinders', fn.col('Cylinders') / fn.col('Displacement'))\n",
    "    .fillna(multipliers)\n",
    "    .withColumn('Cylinders', (fn.col('Cylinders') * fn.col('Displacement')).cast('integer'))\n",
    "    .withColumn('FuelEconomy', fn.col('FuelEconomy') * fn.col('Displacement') * fn.col('Cylinders'))\n",
    ")\n",
    "\n",
    "imputed.show()"
   ]
  },
  {
   "cell_type": "code",
   "execution_count": null,
   "metadata": {},
   "outputs": [],
   "source": []
  }
 ],
 "metadata": {
  "kernelspec": {
   "display_name": "Python 3",
   "language": "python",
   "name": "python3"
  },
  "language_info": {
   "codemirror_mode": {
    "name": "ipython",
    "version": 3
   },
   "file_extension": ".py",
   "mimetype": "text/x-python",
   "name": "python",
   "nbconvert_exporter": "python",
   "pygments_lexer": "ipython3",
   "version": "3.8.3"
  }
 },
 "nbformat": 4,
 "nbformat_minor": 4
}
